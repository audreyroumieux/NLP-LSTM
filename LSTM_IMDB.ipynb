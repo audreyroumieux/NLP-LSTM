{
 "cells": [
  {
   "cell_type": "code",
   "execution_count": 51,
   "metadata": {},
   "outputs": [],
   "source": [
    "import numpy as np\n",
    "\n",
    "from keras.datasets import imdb\n",
    "\n",
    "from keras.preprocessing.sequence import pad_sequences\n",
    "\n",
    "from keras import models\n",
    "from keras.layers import Dense\n",
    "#from keras.layers import Flatten\n",
    "from keras.layers import LSTM\n",
    "from keras.layers.embeddings import Embedding\n",
    "from keras.layers import Conv1D, GlobalAveragePooling1D"
   ]
  },
  {
   "cell_type": "markdown",
   "metadata": {},
   "source": [
    "## Téléchargement des données"
   ]
  },
  {
   "cell_type": "code",
   "execution_count": 52,
   "metadata": {},
   "outputs": [],
   "source": [
    "(X_train, Y_train), (X_test, Y_test) = imdb.load_data(num_words=12000)\n",
    "#X_train"
   ]
  },
  {
   "cell_type": "markdown",
   "metadata": {},
   "source": [
    "## padder"
   ]
  },
  {
   "cell_type": "code",
   "execution_count": 3,
   "metadata": {},
   "outputs": [
    {
     "data": {
      "text/plain": [
       "array([[  1,   2,   3,   4],\n",
       "       [  0,   0,  11, 222]])"
      ]
     },
     "execution_count": 3,
     "metadata": {},
     "output_type": "execute_result"
    }
   ],
   "source": [
    "v1 = np.array([1, 2, 3, 4])\n",
    "v2 = np.array([11, 222])\n",
    "pad_sequences([v1, v2])"
   ]
  },
  {
   "cell_type": "code",
   "execution_count": 53,
   "metadata": {},
   "outputs": [
    {
     "name": "stdout",
     "output_type": "stream",
     "text": [
      "(25000,)\n",
      "[[  15  256    4 ...   19  178   32]\n",
      " [ 125   68    2 ...   16  145   95]\n",
      " [ 645  662    8 ...    7  129  113]\n",
      " ...\n",
      " [ 529  443    2 ...    4 3586    2]\n",
      " [ 286 1814   23 ...   12    9   23]\n",
      " [  97   90   35 ...  204  131    9]]\n",
      "(25000, 80)\n",
      "(25000, 80)\n"
     ]
    }
   ],
   "source": [
    "pad_sequences(X_train)\n",
    "print(X_train.shape)\n",
    "pad_train =  pad_sequences(X_train, maxlen = 80)\n",
    "print(pad_train)\n",
    "print(pad_train.shape)\n",
    "pad_test = pad_sequences(X_test, maxlen = 80)\n",
    "print(pad_test.shape)"
   ]
  },
  {
   "cell_type": "markdown",
   "metadata": {},
   "source": [
    "## Le modèle\n",
    "### composé d'une première couche Embeding suivi d'un lstm terminer d'une dense\n",
    "Cette couche est chargée transformer vos documents en un vecteur de taille beaucoup plus petite que si ovus aviez utilisé le one-hot encoding\n",
    "\n",
    "### Fit"
   ]
  },
  {
   "cell_type": "code",
   "execution_count": 54,
   "metadata": {},
   "outputs": [
    {
     "name": "stdout",
     "output_type": "stream",
     "text": [
      "_________________________________________________________________\n",
      "Layer (type)                 Output Shape              Param #   \n",
      "=================================================================\n",
      "embedding_22 (Embedding)     (None, None, 32)          3200000   \n",
      "_________________________________________________________________\n",
      "lstm_12 (LSTM)               (None, 128)               82432     \n",
      "_________________________________________________________________\n",
      "dense_14 (Dense)             (None, 1)                 129       \n",
      "=================================================================\n",
      "Total params: 3,282,561\n",
      "Trainable params: 3,282,561\n",
      "Non-trainable params: 0\n",
      "_________________________________________________________________\n",
      "None\n"
     ]
    }
   ],
   "source": [
    "model = models.Sequential()\n",
    "model.add(Embedding(100000, 32))\n",
    "model.add(LSTM(128, dropout=0.2, recurrent_dropout=0.2))\n",
    "model.add(Dense(1, activation='sigmoid'))\n",
    "\n",
    "print(model.summary())"
   ]
  },
  {
   "cell_type": "code",
   "execution_count": 55,
   "metadata": {},
   "outputs": [
    {
     "name": "stdout",
     "output_type": "stream",
     "text": [
      "Train on 20000 samples, validate on 5000 samples\n",
      "Epoch 1/10\n",
      "20000/20000 [==============================] - 63s 3ms/step - loss: 0.5096 - acc: 0.7468 - val_loss: 0.3858 - val_acc: 0.8302\n",
      "Epoch 2/10\n",
      "20000/20000 [==============================] - 65s 3ms/step - loss: 0.3320 - acc: 0.8644 - val_loss: 0.3920 - val_acc: 0.8264\n",
      "Epoch 3/10\n",
      "20000/20000 [==============================] - 57s 3ms/step - loss: 0.2798 - acc: 0.8888 - val_loss: 0.4019 - val_acc: 0.8180\n",
      "Epoch 4/10\n",
      "20000/20000 [==============================] - 57s 3ms/step - loss: 0.2361 - acc: 0.9100 - val_loss: 0.4258 - val_acc: 0.8104\n",
      "Epoch 5/10\n",
      "20000/20000 [==============================] - 58s 3ms/step - loss: 0.2131 - acc: 0.9194 - val_loss: 0.4505 - val_acc: 0.81982119 - a\n",
      "Epoch 6/10\n",
      "20000/20000 [==============================] - 64s 3ms/step - loss: 0.1827 - acc: 0.9330 - val_loss: 0.5050 - val_acc: 0.8140\n",
      "Epoch 7/10\n",
      "20000/20000 [==============================] - 66s 3ms/step - loss: 0.1525 - acc: 0.9454 - val_loss: 0.5398 - val_acc: 0.8168\n",
      "Epoch 8/10\n",
      "20000/20000 [==============================] - 61s 3ms/step - loss: 0.1334 - acc: 0.9507 - val_loss: 0.5792 - val_acc: 0.8144\n",
      "Epoch 9/10\n",
      "20000/20000 [==============================] - 64s 3ms/step - loss: 0.1079 - acc: 0.9629 - val_loss: 0.5646 - val_acc: 0.8062\n",
      "Epoch 10/10\n",
      "20000/20000 [==============================] - 65s 3ms/step - loss: 0.0936 - acc: 0.9674 - val_loss: 0.6715 - val_acc: 0.8100\n"
     ]
    }
   ],
   "source": [
    "model.compile(loss='binary_crossentropy',\n",
    "              optimizer='adam',\n",
    "              metrics=['accuracy'])\n",
    "\n",
    "entr = model.fit(pad_train, Y_train,\n",
    "                 batch_size = 64, \n",
    "                 epochs = 10, \n",
    "                 validation_split = 0.2\n",
    "         )"
   ]
  },
  {
   "cell_type": "code",
   "execution_count": 56,
   "metadata": {},
   "outputs": [
    {
     "name": "stdout",
     "output_type": "stream",
     "text": [
      "25000/25000 [==============================] - 14s 563us/step\n",
      "[0.17324588351130485, 0.95172]\n",
      "\n",
      "25000/25000 [==============================] - 16s 641us/step\n",
      "[0.6511789025592803, 0.8076]\n"
     ]
    },
    {
     "data": {
      "text/plain": [
       "array([[0.9873806 ],\n",
       "       [0.99946445],\n",
       "       [0.87361825],\n",
       "       ...,\n",
       "       [0.01520179],\n",
       "       [0.0014717 ],\n",
       "       [0.99354035]], dtype=float32)"
      ]
     },
     "execution_count": 56,
     "metadata": {},
     "output_type": "execute_result"
    }
   ],
   "source": [
    "print(model.evaluate(pad_train, Y_train))\n",
    "print()\n",
    "print(model.evaluate(pad_test, Y_test))\n",
    "\n",
    "model.predict(pad_test)"
   ]
  },
  {
   "cell_type": "markdown",
   "metadata": {},
   "source": [
    "### Convolution 1D"
   ]
  },
  {
   "cell_type": "code",
   "execution_count": 57,
   "metadata": {},
   "outputs": [
    {
     "name": "stdout",
     "output_type": "stream",
     "text": [
      "_________________________________________________________________\n",
      "Layer (type)                 Output Shape              Param #   \n",
      "=================================================================\n",
      "embedding_23 (Embedding)     (None, None, 32)          3200000   \n",
      "_________________________________________________________________\n",
      "conv1d_16 (Conv1D)           (None, None, 16)          1552      \n",
      "_________________________________________________________________\n",
      "global_average_pooling1d_10  (None, 16)                0         \n",
      "_________________________________________________________________\n",
      "dense_15 (Dense)             (None, 1)                 17        \n",
      "=================================================================\n",
      "Total params: 3,201,569\n",
      "Trainable params: 3,201,569\n",
      "Non-trainable params: 0\n",
      "_________________________________________________________________\n",
      "None\n"
     ]
    }
   ],
   "source": [
    "model1D = models.Sequential()\n",
    "model1D.add(Embedding(100000, 32))\n",
    "model1D.add(Conv1D(16, 3, activation='relu'))\n",
    "model1D.add(GlobalAveragePooling1D())\n",
    "model1D.add(Dense(1, activation='sigmoid'))\n",
    "\n",
    "print(model1D.summary())"
   ]
  },
  {
   "cell_type": "code",
   "execution_count": 58,
   "metadata": {},
   "outputs": [
    {
     "name": "stdout",
     "output_type": "stream",
     "text": [
      "Train on 20000 samples, validate on 5000 samples\n",
      "Epoch 1/10\n",
      "20000/20000 [==============================] - 21s 1ms/step - loss: 0.5577 - acc: 0.7504 - val_loss: 0.3991 - val_acc: 0.8240\n",
      "Epoch 2/10\n",
      "20000/20000 [==============================] - 20s 996us/step - loss: 0.3256 - acc: 0.8640 - val_loss: 0.3602 - val_acc: 0.8396\n",
      "Epoch 3/10\n",
      "20000/20000 [==============================] - 20s 1ms/step - loss: 0.2558 - acc: 0.8971 - val_loss: 0.3629 - val_acc: 0.8378\n",
      "Epoch 4/10\n",
      "20000/20000 [==============================] - 20s 997us/step - loss: 0.2122 - acc: 0.9193 - val_loss: 0.3845 - val_acc: 0.8334\n",
      "Epoch 5/10\n",
      "20000/20000 [==============================] - 22s 1ms/step - loss: 0.1806 - acc: 0.9344 - val_loss: 0.4157 - val_acc: 0.8288\n",
      "Epoch 6/10\n",
      "20000/20000 [==============================] - 19s 956us/step - loss: 0.1543 - acc: 0.9451 - val_loss: 0.4574 - val_acc: 0.8212\n",
      "Epoch 7/10\n",
      "20000/20000 [==============================] - 19s 966us/step - loss: 0.1328 - acc: 0.9546 - val_loss: 0.5000 - val_acc: 0.8164\n",
      "Epoch 8/10\n",
      "20000/20000 [==============================] - 21s 1ms/step - loss: 0.1137 - acc: 0.9634 - val_loss: 0.5489 - val_acc: 0.8154\n",
      "Epoch 9/10\n",
      "20000/20000 [==============================] - 23s 1ms/step - loss: 0.0961 - acc: 0.9712 - val_loss: 0.6084 - val_acc: 0.8104\n",
      "Epoch 10/10\n",
      "20000/20000 [==============================] - 23s 1ms/step - loss: 0.0807 - acc: 0.9763 - val_loss: 0.6679 - val_acc: 0.8088\n"
     ]
    },
    {
     "data": {
      "text/plain": [
       "<keras.callbacks.History at 0x24121c92470>"
      ]
     },
     "execution_count": 58,
     "metadata": {},
     "output_type": "execute_result"
    }
   ],
   "source": [
    "model1D.compile(loss='binary_crossentropy',\n",
    "              optimizer='adam',\n",
    "              metrics=['accuracy'])\n",
    "\n",
    "model1D.fit(pad_train, Y_train,\n",
    "                 batch_size = 64, \n",
    "                 epochs = 10, \n",
    "                 validation_split = 0.2\n",
    "         )"
   ]
  },
  {
   "cell_type": "markdown",
   "metadata": {},
   "source": [
    "### "
   ]
  },
  {
   "cell_type": "code",
   "execution_count": null,
   "metadata": {},
   "outputs": [],
   "source": []
  }
 ],
 "metadata": {
  "kernelspec": {
   "display_name": "Python 3",
   "language": "python",
   "name": "python3"
  },
  "language_info": {
   "codemirror_mode": {
    "name": "ipython",
    "version": 3
   },
   "file_extension": ".py",
   "mimetype": "text/x-python",
   "name": "python",
   "nbconvert_exporter": "python",
   "pygments_lexer": "ipython3",
   "version": "3.6.4"
  }
 },
 "nbformat": 4,
 "nbformat_minor": 2
}
